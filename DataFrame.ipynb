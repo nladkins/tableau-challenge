{
 "cells": [
  {
   "cell_type": "markdown",
   "id": "3720714e",
   "metadata": {},
   "source": [
    "# Dependencies"
   ]
  },
  {
   "cell_type": "code",
   "execution_count": 1,
   "id": "e64864d2",
   "metadata": {},
   "outputs": [],
   "source": [
    "# Dependencies \n",
    "from gazpacho import Soup\n",
    "from bs4 import BeautifulSoup\n",
    "import requests\n",
    "import pandas as pd\n",
    "from io import BytesIO\n",
    "from zipfile import ZipFile\n",
    "from urllib.request import urlopen\n",
    "from splinter import Browser\n",
    "from webdriver_manager.chrome import ChromeDriverManager"
   ]
  },
  {
   "cell_type": "markdown",
   "id": "dd35bcd7",
   "metadata": {},
   "source": [
    "# Web Scrape csv information"
   ]
  },
  {
   "cell_type": "code",
   "execution_count": 2,
   "id": "4b71966e",
   "metadata": {},
   "outputs": [
    {
     "name": "stderr",
     "output_type": "stream",
     "text": [
      "\n",
      "\n",
      "====== WebDriver manager ======\n",
      "Current google-chrome version is 97.0.4692\n",
      "Get LATEST chromedriver version for 97.0.4692 google-chrome\n",
      "Driver [/Users/normanadkins/.wdm/drivers/chromedriver/mac64/97.0.4692.71/chromedriver] found in cache\n"
     ]
    }
   ],
   "source": [
    "# Run Chrome to assist with identifying another set of html calls.\n",
    "executable_path = {'executable_path': ChromeDriverManager().install()}\n",
    "browser = Browser('chrome', **executable_path, headless=False)"
   ]
  },
  {
   "cell_type": "code",
   "execution_count": 3,
   "id": "950915fe",
   "metadata": {},
   "outputs": [],
   "source": [
    "# Visit the new URL for preview\n",
    "url = \"https://s3.amazonaws.com/tripdata/index.html\"\n",
    "browser.visit(url)"
   ]
  },
  {
   "cell_type": "code",
   "execution_count": 4,
   "id": "6f16c4c5",
   "metadata": {},
   "outputs": [],
   "source": [
    "# Requests\n",
    "html_page = requests.get(url)\n",
    "soup = BeautifulSoup(html_page.content, \"html.parser\")"
   ]
  },
  {
   "cell_type": "code",
   "execution_count": 5,
   "id": "b4e75f46",
   "metadata": {
    "scrolled": true
   },
   "outputs": [
    {
     "data": {
      "text/plain": [
       "['https://s3.amazonaws.com/tripdata/202101-citibike-tripdata.csv.zip',\n",
       " 'https://s3.amazonaws.com/tripdata/202102-citibike-tripdata.csv.zip',\n",
       " 'https://s3.amazonaws.com/tripdata/202103-citibike-tripdata.csv.zip',\n",
       " 'https://s3.amazonaws.com/tripdata/202104-citibike-tripdata.csv.zip',\n",
       " 'https://s3.amazonaws.com/tripdata/202105-citibike-tripdata.csv.zip',\n",
       " 'https://s3.amazonaws.com/tripdata/202106-citibike-tripdata.csv.zip',\n",
       " 'https://s3.amazonaws.com/tripdata/202107-citibike-tripdata.csv.zip',\n",
       " 'https://s3.amazonaws.com/tripdata/202108-citibike-tripdata.csv.zip',\n",
       " 'https://s3.amazonaws.com/tripdata/202109-citibike-tripdata.csv.zip',\n",
       " 'https://s3.amazonaws.com/tripdata/202110-citibike-tripdata.csv.zip',\n",
       " 'https://s3.amazonaws.com/tripdata/202111-citibike-tripdata.csv.zip',\n",
       " 'https://s3.amazonaws.com/tripdata/202112-citibike-tripdata.csv.zip']"
      ]
     },
     "execution_count": 5,
     "metadata": {},
     "output_type": "execute_result"
    }
   ],
   "source": [
    "# HTML object\n",
    "html = browser.html\n",
    "# Parse HTML with Beautiful Soup\n",
    "soup = BeautifulSoup(html, 'html.parser')\n",
    "\n",
    "# Create an list of csv links\n",
    "rows = []\n",
    "\n",
    "# Loop through the links to append \n",
    "for link in soup.find_all('a'):\n",
    "    \n",
    "    # Append the zip \"clean\" links\n",
    "    rows.append(link.get('href'))\n",
    "\n",
    "# Only capture the zip files that are the focus.\n",
    "links = rows[92:104]\n",
    "\n",
    "# Print to confirm the changes\n",
    "links"
   ]
  },
  {
   "cell_type": "code",
   "execution_count": 6,
   "id": "2567b4e9",
   "metadata": {},
   "outputs": [],
   "source": [
    "# Close out browser session\n",
    "browser.quit()"
   ]
  },
  {
   "cell_type": "markdown",
   "id": "352aa90f",
   "metadata": {},
   "source": [
    "# Unzip and load csv data into a single DataFrame."
   ]
  },
  {
   "cell_type": "markdown",
   "id": "cab77c57",
   "metadata": {},
   "source": [
    "## Note:  This takes some computing power to execute."
   ]
  },
  {
   "cell_type": "code",
   "execution_count": 7,
   "id": "0f1d524f",
   "metadata": {},
   "outputs": [
    {
     "name": "stdout",
     "output_type": "stream",
     "text": [
      "202101-citibike-tripdata.csv has been completed\n",
      "202102-citibike-tripdata.csv has been completed\n",
      "202103-citibike-tripdata.csv has been completed\n",
      "202104-citibike-tripdata.csv has been completed\n",
      "202105-citibike-tripdata.csv has been completed\n",
      "202106-citibike-tripdata.csv has been completed\n",
      "202107-citibike-tripdata.csv has been completed\n",
      "202108-citibike-tripdata.csv has been completed\n",
      "202109-citibike-tripdata.csv has been completed\n",
      "202110-citibike-tripdata.csv has been completed\n",
      "202111-citibike-tripdata.csv has been completed\n",
      "202112-citibike-tripdata.csv has been completed\n",
      "document has been saved\n"
     ]
    }
   ],
   "source": [
    "# Start a DataFrame\n",
    "master_df = pd.DataFrame()\n",
    "\n",
    "# Only do one at a time due to memory limitation\n",
    "for link in links:\n",
    "    # open url\n",
    "    resp = urlopen(link)\n",
    "    # read zip\n",
    "    zipfile = ZipFile(BytesIO(resp.read()))\n",
    "    # Get csv file name\n",
    "    fname = zipfile.namelist()[0]\n",
    "    # Data Frame\n",
    "    df = pd.read_csv(zipfile.open(fname), dtype=object)\n",
    "    # Close zip\n",
    "    zipfile.close()\n",
    "    # Concatenate DataFrame\n",
    "    master_df = pd.concat([master_df, df], ignore_index=True, sort=False)\n",
    "    # Print Confirmation\n",
    "    print(f'{fname} has been completed')\n",
    "    \n",
    "# Save Data Frame for Tableau Visuals\n",
    "master_df.to_csv(\"data/bike_rental.csv\")\n",
    "\n",
    "# Print Save Confirmation\n",
    "print(\"document has been saved\")"
   ]
  },
  {
   "cell_type": "code",
   "execution_count": 10,
   "id": "bd182543",
   "metadata": {},
   "outputs": [],
   "source": [
    "# Free up Memory by deleting a DataFrame no longer needed\n",
    "del df"
   ]
  },
  {
   "cell_type": "markdown",
   "id": "1dbcab35",
   "metadata": {},
   "source": [
    "# Data Cleansing"
   ]
  },
  {
   "cell_type": "markdown",
   "id": "600bbe8c",
   "metadata": {},
   "source": [
    "## Assess the data"
   ]
  },
  {
   "cell_type": "code",
   "execution_count": 11,
   "id": "42790013",
   "metadata": {},
   "outputs": [
    {
     "data": {
      "text/html": [
       "<div>\n",
       "<style scoped>\n",
       "    .dataframe tbody tr th:only-of-type {\n",
       "        vertical-align: middle;\n",
       "    }\n",
       "\n",
       "    .dataframe tbody tr th {\n",
       "        vertical-align: top;\n",
       "    }\n",
       "\n",
       "    .dataframe thead th {\n",
       "        text-align: right;\n",
       "    }\n",
       "</style>\n",
       "<table border=\"1\" class=\"dataframe\">\n",
       "  <thead>\n",
       "    <tr style=\"text-align: right;\">\n",
       "      <th></th>\n",
       "      <th>tripduration</th>\n",
       "      <th>starttime</th>\n",
       "      <th>stoptime</th>\n",
       "      <th>start station id</th>\n",
       "      <th>start station name</th>\n",
       "      <th>start station latitude</th>\n",
       "      <th>start station longitude</th>\n",
       "      <th>end station id</th>\n",
       "      <th>end station name</th>\n",
       "      <th>end station latitude</th>\n",
       "      <th>...</th>\n",
       "      <th>ended_at</th>\n",
       "      <th>start_station_name</th>\n",
       "      <th>start_station_id</th>\n",
       "      <th>end_station_name</th>\n",
       "      <th>end_station_id</th>\n",
       "      <th>start_lat</th>\n",
       "      <th>start_lng</th>\n",
       "      <th>end_lat</th>\n",
       "      <th>end_lng</th>\n",
       "      <th>member_casual</th>\n",
       "    </tr>\n",
       "  </thead>\n",
       "  <tbody>\n",
       "    <tr>\n",
       "      <th>0</th>\n",
       "      <td>2513</td>\n",
       "      <td>2021-01-01 00:00:11.9020</td>\n",
       "      <td>2021-01-01 00:42:05.2260</td>\n",
       "      <td>3581</td>\n",
       "      <td>Underhill Ave &amp; Lincoln Pl</td>\n",
       "      <td>40.6740123</td>\n",
       "      <td>-73.9671457</td>\n",
       "      <td>3581</td>\n",
       "      <td>Underhill Ave &amp; Lincoln Pl</td>\n",
       "      <td>40.6740123</td>\n",
       "      <td>...</td>\n",
       "      <td>NaN</td>\n",
       "      <td>NaN</td>\n",
       "      <td>NaN</td>\n",
       "      <td>NaN</td>\n",
       "      <td>NaN</td>\n",
       "      <td>NaN</td>\n",
       "      <td>NaN</td>\n",
       "      <td>NaN</td>\n",
       "      <td>NaN</td>\n",
       "      <td>NaN</td>\n",
       "    </tr>\n",
       "    <tr>\n",
       "      <th>1</th>\n",
       "      <td>2519</td>\n",
       "      <td>2021-01-01 00:00:15.0960</td>\n",
       "      <td>2021-01-01 00:42:14.9780</td>\n",
       "      <td>3581</td>\n",
       "      <td>Underhill Ave &amp; Lincoln Pl</td>\n",
       "      <td>40.6740123</td>\n",
       "      <td>-73.9671457</td>\n",
       "      <td>3581</td>\n",
       "      <td>Underhill Ave &amp; Lincoln Pl</td>\n",
       "      <td>40.6740123</td>\n",
       "      <td>...</td>\n",
       "      <td>NaN</td>\n",
       "      <td>NaN</td>\n",
       "      <td>NaN</td>\n",
       "      <td>NaN</td>\n",
       "      <td>NaN</td>\n",
       "      <td>NaN</td>\n",
       "      <td>NaN</td>\n",
       "      <td>NaN</td>\n",
       "      <td>NaN</td>\n",
       "      <td>NaN</td>\n",
       "    </tr>\n",
       "    <tr>\n",
       "      <th>2</th>\n",
       "      <td>1207</td>\n",
       "      <td>2021-01-01 00:00:28.9300</td>\n",
       "      <td>2021-01-01 00:20:36.6510</td>\n",
       "      <td>3144</td>\n",
       "      <td>E 81 St &amp; Park Ave</td>\n",
       "      <td>40.77677702</td>\n",
       "      <td>-73.9590097</td>\n",
       "      <td>3724</td>\n",
       "      <td>7 Ave &amp; Central Park South</td>\n",
       "      <td>40.7667405590595</td>\n",
       "      <td>...</td>\n",
       "      <td>NaN</td>\n",
       "      <td>NaN</td>\n",
       "      <td>NaN</td>\n",
       "      <td>NaN</td>\n",
       "      <td>NaN</td>\n",
       "      <td>NaN</td>\n",
       "      <td>NaN</td>\n",
       "      <td>NaN</td>\n",
       "      <td>NaN</td>\n",
       "      <td>NaN</td>\n",
       "    </tr>\n",
       "    <tr>\n",
       "      <th>3</th>\n",
       "      <td>2506</td>\n",
       "      <td>2021-01-01 00:00:32.7130</td>\n",
       "      <td>2021-01-01 00:42:19.3980</td>\n",
       "      <td>3581</td>\n",
       "      <td>Underhill Ave &amp; Lincoln Pl</td>\n",
       "      <td>40.6740123</td>\n",
       "      <td>-73.9671457</td>\n",
       "      <td>3581</td>\n",
       "      <td>Underhill Ave &amp; Lincoln Pl</td>\n",
       "      <td>40.6740123</td>\n",
       "      <td>...</td>\n",
       "      <td>NaN</td>\n",
       "      <td>NaN</td>\n",
       "      <td>NaN</td>\n",
       "      <td>NaN</td>\n",
       "      <td>NaN</td>\n",
       "      <td>NaN</td>\n",
       "      <td>NaN</td>\n",
       "      <td>NaN</td>\n",
       "      <td>NaN</td>\n",
       "      <td>NaN</td>\n",
       "    </tr>\n",
       "    <tr>\n",
       "      <th>4</th>\n",
       "      <td>959</td>\n",
       "      <td>2021-01-01 00:00:35.3650</td>\n",
       "      <td>2021-01-01 00:16:34.6010</td>\n",
       "      <td>534</td>\n",
       "      <td>Water - Whitehall Plaza</td>\n",
       "      <td>40.70255065</td>\n",
       "      <td>-74.0127234</td>\n",
       "      <td>332</td>\n",
       "      <td>Cherry St</td>\n",
       "      <td>40.71219906</td>\n",
       "      <td>...</td>\n",
       "      <td>NaN</td>\n",
       "      <td>NaN</td>\n",
       "      <td>NaN</td>\n",
       "      <td>NaN</td>\n",
       "      <td>NaN</td>\n",
       "      <td>NaN</td>\n",
       "      <td>NaN</td>\n",
       "      <td>NaN</td>\n",
       "      <td>NaN</td>\n",
       "      <td>NaN</td>\n",
       "    </tr>\n",
       "  </tbody>\n",
       "</table>\n",
       "<p>5 rows × 28 columns</p>\n",
       "</div>"
      ],
      "text/plain": [
       "  tripduration                 starttime                  stoptime  \\\n",
       "0         2513  2021-01-01 00:00:11.9020  2021-01-01 00:42:05.2260   \n",
       "1         2519  2021-01-01 00:00:15.0960  2021-01-01 00:42:14.9780   \n",
       "2         1207  2021-01-01 00:00:28.9300  2021-01-01 00:20:36.6510   \n",
       "3         2506  2021-01-01 00:00:32.7130  2021-01-01 00:42:19.3980   \n",
       "4          959  2021-01-01 00:00:35.3650  2021-01-01 00:16:34.6010   \n",
       "\n",
       "  start station id          start station name start station latitude  \\\n",
       "0             3581  Underhill Ave & Lincoln Pl             40.6740123   \n",
       "1             3581  Underhill Ave & Lincoln Pl             40.6740123   \n",
       "2             3144          E 81 St & Park Ave            40.77677702   \n",
       "3             3581  Underhill Ave & Lincoln Pl             40.6740123   \n",
       "4              534     Water - Whitehall Plaza            40.70255065   \n",
       "\n",
       "  start station longitude end station id            end station name  \\\n",
       "0             -73.9671457           3581  Underhill Ave & Lincoln Pl   \n",
       "1             -73.9671457           3581  Underhill Ave & Lincoln Pl   \n",
       "2             -73.9590097           3724  7 Ave & Central Park South   \n",
       "3             -73.9671457           3581  Underhill Ave & Lincoln Pl   \n",
       "4             -74.0127234            332                   Cherry St   \n",
       "\n",
       "  end station latitude  ... ended_at start_station_name start_station_id  \\\n",
       "0           40.6740123  ...      NaN                NaN              NaN   \n",
       "1           40.6740123  ...      NaN                NaN              NaN   \n",
       "2     40.7667405590595  ...      NaN                NaN              NaN   \n",
       "3           40.6740123  ...      NaN                NaN              NaN   \n",
       "4          40.71219906  ...      NaN                NaN              NaN   \n",
       "\n",
       "  end_station_name end_station_id start_lat start_lng end_lat end_lng  \\\n",
       "0              NaN            NaN       NaN       NaN     NaN     NaN   \n",
       "1              NaN            NaN       NaN       NaN     NaN     NaN   \n",
       "2              NaN            NaN       NaN       NaN     NaN     NaN   \n",
       "3              NaN            NaN       NaN       NaN     NaN     NaN   \n",
       "4              NaN            NaN       NaN       NaN     NaN     NaN   \n",
       "\n",
       "  member_casual  \n",
       "0           NaN  \n",
       "1           NaN  \n",
       "2           NaN  \n",
       "3           NaN  \n",
       "4           NaN  \n",
       "\n",
       "[5 rows x 28 columns]"
      ]
     },
     "execution_count": 11,
     "metadata": {},
     "output_type": "execute_result"
    }
   ],
   "source": [
    "# Preview Data\n",
    "master_df.head(5)"
   ]
  },
  {
   "cell_type": "code",
   "execution_count": 12,
   "id": "c5aee821",
   "metadata": {},
   "outputs": [
    {
     "data": {
      "text/plain": [
       "27659819"
      ]
     },
     "execution_count": 12,
     "metadata": {},
     "output_type": "execute_result"
    }
   ],
   "source": [
    "# Length of DataFrame for considering how many rows would be lost for specific columns.\n",
    "master_df.shape[0]"
   ]
  },
  {
   "cell_type": "code",
   "execution_count": 13,
   "id": "8dd3a10b",
   "metadata": {},
   "outputs": [
    {
     "data": {
      "text/plain": [
       "tripduration               26564473\n",
       "starttime                  26564473\n",
       "stoptime                   26564473\n",
       "start station id           26564473\n",
       "start station name         26564473\n",
       "start station latitude     26564473\n",
       "start station longitude    26564473\n",
       "end station id             26564473\n",
       "end station name           26564473\n",
       "end station latitude       26564473\n",
       "end station longitude      26564473\n",
       "bikeid                     26564473\n",
       "usertype                   26564473\n",
       "birth year                 26564473\n",
       "gender                     26564473\n",
       "ride_id                     1095346\n",
       "rideable_type               1095346\n",
       "started_at                  1095346\n",
       "ended_at                    1095346\n",
       "start_station_name          1095838\n",
       "start_station_id            1095838\n",
       "end_station_name            1189969\n",
       "end_station_id              1189969\n",
       "start_lat                   1095346\n",
       "start_lng                   1095346\n",
       "end_lat                     1154298\n",
       "end_lng                     1154298\n",
       "member_casual               1095346\n",
       "dtype: int64"
      ]
     },
     "execution_count": 13,
     "metadata": {},
     "output_type": "execute_result"
    }
   ],
   "source": [
    "# Count Null Values by column\n",
    "master_df.isnull().sum(axis=0)"
   ]
  },
  {
   "cell_type": "markdown",
   "id": "6f5bbe02",
   "metadata": {},
   "source": [
    "## Cleaning the Data such as dropping duplicate columns, removing null values, and changing the datatypes."
   ]
  },
  {
   "cell_type": "code",
   "execution_count": 14,
   "id": "debf305a",
   "metadata": {},
   "outputs": [],
   "source": [
    "# Drop Duplicate Columns that are primarily empty anyway.\n",
    "master_df = master_df.drop(master_df.columns[[0, 1, 2, 3, 4, 5, 6, 7, 8, 9, 10, 11, 12, 13, 14]], axis=1)"
   ]
  },
  {
   "cell_type": "code",
   "execution_count": 15,
   "id": "0dfd4d84",
   "metadata": {},
   "outputs": [
    {
     "data": {
      "text/plain": [
       "ride_id               1095346\n",
       "rideable_type         1095346\n",
       "started_at            1095346\n",
       "ended_at              1095346\n",
       "start_station_name    1095838\n",
       "start_station_id      1095838\n",
       "end_station_name      1189969\n",
       "end_station_id        1189969\n",
       "start_lat             1095346\n",
       "start_lng             1095346\n",
       "end_lat               1154298\n",
       "end_lng               1154298\n",
       "member_casual         1095346\n",
       "dtype: int64"
      ]
     },
     "execution_count": 15,
     "metadata": {},
     "output_type": "execute_result"
    }
   ],
   "source": [
    "# Confirm that columns were dropped.\n",
    "master_df.isnull().sum(axis=0)"
   ]
  },
  {
   "cell_type": "code",
   "execution_count": 16,
   "id": "d13e5404",
   "metadata": {},
   "outputs": [],
   "source": [
    "# After seeing updated preview, dropping null values in other columns\n",
    "master_df = master_df.dropna(subset=[\"start_lat\", \"start_lng\", \"end_lat\", \"end_lng\", \"started_at\", \"ended_at\", \n",
    "                                     \"start_station_name\", \"start_station_id\", \"end_station_name\", \n",
    "                                     \"end_station_id\"])"
   ]
  },
  {
   "cell_type": "code",
   "execution_count": 17,
   "id": "8367ddd6",
   "metadata": {},
   "outputs": [
    {
     "data": {
      "text/plain": [
       "ride_id               0\n",
       "rideable_type         0\n",
       "started_at            0\n",
       "ended_at              0\n",
       "start_station_name    0\n",
       "start_station_id      0\n",
       "end_station_name      0\n",
       "end_station_id        0\n",
       "start_lat             0\n",
       "start_lng             0\n",
       "end_lat               0\n",
       "end_lng               0\n",
       "member_casual         0\n",
       "dtype: int64"
      ]
     },
     "execution_count": 17,
     "metadata": {},
     "output_type": "execute_result"
    }
   ],
   "source": [
    "# Confirm that nulls were dropped.\n",
    "master_df.isnull().sum(axis=0)"
   ]
  },
  {
   "cell_type": "code",
   "execution_count": 18,
   "id": "8c572a84",
   "metadata": {},
   "outputs": [
    {
     "data": {
      "text/plain": [
       "ride_id               object\n",
       "rideable_type         object\n",
       "started_at            object\n",
       "ended_at              object\n",
       "start_station_name    object\n",
       "start_station_id      object\n",
       "end_station_name      object\n",
       "end_station_id        object\n",
       "start_lat             object\n",
       "start_lng             object\n",
       "end_lat               object\n",
       "end_lng               object\n",
       "member_casual         object\n",
       "dtype: object"
      ]
     },
     "execution_count": 18,
     "metadata": {},
     "output_type": "execute_result"
    }
   ],
   "source": [
    "# Now that we have a clean data set, the data types need to be reviewed for accuracy.\n",
    "master_df.dtypes"
   ]
  },
  {
   "cell_type": "code",
   "execution_count": 19,
   "id": "671da42a",
   "metadata": {},
   "outputs": [
    {
     "data": {
      "text/plain": [
       "1095346    2021-02-26 16:38:54\n",
       "1095347    2021-02-17 11:09:11\n",
       "1095348    2021-02-26 18:33:29\n",
       "1095349    2021-02-26 12:48:35\n",
       "1095350    2021-02-25 17:23:22\n",
       "                   ...        \n",
       "27659814   2021-12-14 02:43:49\n",
       "27659815   2021-12-11 23:59:52\n",
       "27659816   2021-12-19 13:47:26\n",
       "27659817   2021-12-14 09:04:02\n",
       "27659818   2021-12-11 16:01:34\n",
       "Name: started_at, Length: 26469840, dtype: datetime64[ns]"
      ]
     },
     "execution_count": 19,
     "metadata": {},
     "output_type": "execute_result"
    }
   ],
   "source": [
    "# New Dependency\n",
    "import datetime\n",
    "\n",
    "# Convert datatype for started_at to datetime\n",
    "master_df[\"started_at\"].astype('datetime64[s]')"
   ]
  },
  {
   "cell_type": "code",
   "execution_count": 20,
   "id": "5f88a3d0",
   "metadata": {},
   "outputs": [
    {
     "data": {
      "text/plain": [
       "1095346    2021-02-26 16:44:37\n",
       "1095347    2021-02-17 11:26:47\n",
       "1095348    2021-02-26 19:05:41\n",
       "1095349    2021-02-26 13:07:24\n",
       "1095350    2021-02-25 17:28:20\n",
       "                   ...        \n",
       "27659814   2021-12-14 03:04:54\n",
       "27659815   2021-12-12 00:03:56\n",
       "27659816   2021-12-19 14:06:20\n",
       "27659817   2021-12-14 09:09:08\n",
       "27659818   2021-12-11 16:17:26\n",
       "Name: ended_at, Length: 26469840, dtype: datetime64[ns]"
      ]
     },
     "execution_count": 20,
     "metadata": {},
     "output_type": "execute_result"
    }
   ],
   "source": [
    "# Convert datatype for ended_at to datetime\n",
    "master_df[\"ended_at\"].astype('datetime64[s]')"
   ]
  },
  {
   "cell_type": "markdown",
   "id": "955bf62a",
   "metadata": {},
   "source": [
    "# Export the Clean csv to use for Tableau Visualizations."
   ]
  },
  {
   "cell_type": "code",
   "execution_count": 21,
   "id": "7bf60fdc",
   "metadata": {},
   "outputs": [],
   "source": [
    "# Save Data Frame for Tableau Visuals\n",
    "master_df.to_csv(\"data/bike_rental.csv\")"
   ]
  }
 ],
 "metadata": {
  "kernelspec": {
   "display_name": "Python 3",
   "language": "python",
   "name": "python3"
  },
  "language_info": {
   "codemirror_mode": {
    "name": "ipython",
    "version": 3
   },
   "file_extension": ".py",
   "mimetype": "text/x-python",
   "name": "python",
   "nbconvert_exporter": "python",
   "pygments_lexer": "ipython3",
   "version": "3.6.13"
  }
 },
 "nbformat": 4,
 "nbformat_minor": 5
}
